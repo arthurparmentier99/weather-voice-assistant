{
 "cells": [
  {
   "cell_type": "code",
   "execution_count": 96,
   "metadata": {},
   "outputs": [
    {
     "name": "stdout",
     "output_type": "stream",
     "text": [
      "7e6de904a7efae91cc0efa405bbbe1ad\n"
     ]
    }
   ],
   "source": [
    "import os\n",
    "from dotenv import load_dotenv\n",
    "from pathlib import Path\n",
    "\n",
    "load_dotenv()\n",
    "\n",
    "# Récupérer la valeur de API_KEY\n",
    "\n",
    "api_key = os.getenv('API_KEY')\n",
    "\n",
    "# Imprimer la valeur de API_KEY\n",
    "print(api_key)"
   ]
  },
  {
   "cell_type": "code",
   "execution_count": 69,
   "metadata": {},
   "outputs": [
    {
     "name": "stdout",
     "output_type": "stream",
     "text": [
      "{'coord': {'lon': 4.5833, 'lat': 45.75}, 'weather': [{'id': 802, 'main': 'Clouds', 'description': 'partiellement nuageux', 'icon': '03d'}], 'base': 'stations', 'main': {'temp': 13.37, 'feels_like': 12.59, 'temp_min': 12.78, 'temp_max': 14.38, 'pressure': 1017, 'humidity': 70}, 'visibility': 10000, 'wind': {'speed': 0.89, 'deg': 80, 'gust': 3.13}, 'clouds': {'all': 49}, 'dt': 1710339408, 'sys': {'type': 2, 'id': 2007821, 'country': 'FR', 'sunrise': 1710309462, 'sunset': 1710351874}, 'timezone': 3600, 'id': 2996943, 'name': 'Lyon', 'cod': 200}\n",
      "Weather in Lyon\n",
      "Description: partiellement nuageux\n",
      "Temperature: 13.37  °C\n",
      "Humidity: 70 %\n",
      "Wind Speed: 0.89 m/s\n"
     ]
    }
   ],
   "source": [
    "import requests\n",
    "\n",
    "def get_current_weather(city, api_key):\n",
    "    url = f\"https://api.openweathermap.org/data/2.5/weather?q={city}&appid={api_key}&lang=fr&units=metric\"\n",
    "    response = requests.get(url)\n",
    "    data = response.json()\n",
    "    return data\n",
    "\n",
    "\n",
    "adress = \"79 cours de la liberté, Lyon 69007\"\n",
    "city = \"Lyon\"\n",
    "\n",
    "weather_data = get_current_weather(city, api_key)\n",
    "print(weather_data)\n",
    "print(\"Weather in\", city)\n",
    "print(\"Description:\", weather_data['weather'][0]['description'])\n",
    "print(\"Temperature:\", weather_data['main']['temp'],\" °C\")\n",
    "print(\"Humidity:\", weather_data['main']['humidity'], \"%\")\n",
    "print(\"Wind Speed:\", weather_data['wind']['speed'], \"m/s\")"
   ]
  },
  {
   "cell_type": "markdown",
   "metadata": {},
   "source": [
    "# Météo avec Lat / Lont, avec adress de Nominatuim (bug un peu desfois)"
   ]
  },
  {
   "cell_type": "code",
   "execution_count": 77,
   "metadata": {},
   "outputs": [
    {
     "ename": "GeocoderInsufficientPrivileges",
     "evalue": "Non-successful status code 403",
     "output_type": "error",
     "traceback": [
      "\u001b[1;31m---------------------------------------------------------------------------\u001b[0m",
      "\u001b[1;31mAdapterHTTPError\u001b[0m                          Traceback (most recent call last)",
      "File \u001b[1;32mc:\\Python311\\Lib\\site-packages\\geopy\\geocoders\\base.py:368\u001b[0m, in \u001b[0;36mGeocoder._call_geocoder\u001b[1;34m(self, url, callback, timeout, is_json, headers)\u001b[0m\n\u001b[0;32m    367\u001b[0m \u001b[39mif\u001b[39;00m is_json:\n\u001b[1;32m--> 368\u001b[0m     result \u001b[39m=\u001b[39m \u001b[39mself\u001b[39;49m\u001b[39m.\u001b[39;49madapter\u001b[39m.\u001b[39;49mget_json(url, timeout\u001b[39m=\u001b[39;49mtimeout, headers\u001b[39m=\u001b[39;49mreq_headers)\n\u001b[0;32m    369\u001b[0m \u001b[39melse\u001b[39;00m:\n",
      "File \u001b[1;32mc:\\Python311\\Lib\\site-packages\\geopy\\adapters.py:472\u001b[0m, in \u001b[0;36mRequestsAdapter.get_json\u001b[1;34m(self, url, timeout, headers)\u001b[0m\n\u001b[0;32m    471\u001b[0m \u001b[39mdef\u001b[39;00m \u001b[39mget_json\u001b[39m(\u001b[39mself\u001b[39m, url, \u001b[39m*\u001b[39m, timeout, headers):\n\u001b[1;32m--> 472\u001b[0m     resp \u001b[39m=\u001b[39m \u001b[39mself\u001b[39;49m\u001b[39m.\u001b[39;49m_request(url, timeout\u001b[39m=\u001b[39;49mtimeout, headers\u001b[39m=\u001b[39;49mheaders)\n\u001b[0;32m    473\u001b[0m     \u001b[39mtry\u001b[39;00m:\n",
      "File \u001b[1;32mc:\\Python311\\Lib\\site-packages\\geopy\\adapters.py:500\u001b[0m, in \u001b[0;36mRequestsAdapter._request\u001b[1;34m(self, url, timeout, headers)\u001b[0m\n\u001b[0;32m    499\u001b[0m     \u001b[39mif\u001b[39;00m resp\u001b[39m.\u001b[39mstatus_code \u001b[39m>\u001b[39m\u001b[39m=\u001b[39m \u001b[39m400\u001b[39m:\n\u001b[1;32m--> 500\u001b[0m         \u001b[39mraise\u001b[39;00m AdapterHTTPError(\n\u001b[0;32m    501\u001b[0m             \u001b[39m\"\u001b[39m\u001b[39mNon-successful status code \u001b[39m\u001b[39m%s\u001b[39;00m\u001b[39m\"\u001b[39m \u001b[39m%\u001b[39m resp\u001b[39m.\u001b[39mstatus_code,\n\u001b[0;32m    502\u001b[0m             status_code\u001b[39m=\u001b[39mresp\u001b[39m.\u001b[39mstatus_code,\n\u001b[0;32m    503\u001b[0m             headers\u001b[39m=\u001b[39mresp\u001b[39m.\u001b[39mheaders,\n\u001b[0;32m    504\u001b[0m             text\u001b[39m=\u001b[39mresp\u001b[39m.\u001b[39mtext,\n\u001b[0;32m    505\u001b[0m         )\n\u001b[0;32m    507\u001b[0m \u001b[39mreturn\u001b[39;00m resp\n",
      "\u001b[1;31mAdapterHTTPError\u001b[0m: Non-successful status code 403",
      "\nThe above exception was the direct cause of the following exception:\n",
      "\u001b[1;31mGeocoderInsufficientPrivileges\u001b[0m            Traceback (most recent call last)",
      "\u001b[1;32mc:\\Users\\nagrimault\\Documents\\fac\\s2\\PROJET_LIBRE\\main_api_meteo.ipynb Cell 5\u001b[0m line \u001b[0;36m2\n\u001b[0;32m     <a href='vscode-notebook-cell:/c%3A/Users/nagrimault/Documents/fac/s2/PROJET_LIBRE/main_api_meteo.ipynb#W3sZmlsZQ%3D%3D?line=17'>18</a>\u001b[0m address \u001b[39m=\u001b[39m \u001b[39m\"\u001b[39m\u001b[39m1 rue de Rivoli, Paris, France\u001b[39m\u001b[39m\"\u001b[39m\n\u001b[0;32m     <a href='vscode-notebook-cell:/c%3A/Users/nagrimault/Documents/fac/s2/PROJET_LIBRE/main_api_meteo.ipynb#W3sZmlsZQ%3D%3D?line=18'>19</a>\u001b[0m address2 \u001b[39m=\u001b[39m \u001b[39m\"\u001b[39m\u001b[39m79 cours de la liberté, Lyon 69007\u001b[39m\u001b[39m\"\u001b[39m\n\u001b[1;32m---> <a href='vscode-notebook-cell:/c%3A/Users/nagrimault/Documents/fac/s2/PROJET_LIBRE/main_api_meteo.ipynb#W3sZmlsZQ%3D%3D?line=20'>21</a>\u001b[0m weather_data \u001b[39m=\u001b[39m get_current_weather(address, api_key)\n\u001b[0;32m     <a href='vscode-notebook-cell:/c%3A/Users/nagrimault/Documents/fac/s2/PROJET_LIBRE/main_api_meteo.ipynb#W3sZmlsZQ%3D%3D?line=21'>22</a>\u001b[0m \u001b[39mprint\u001b[39m(weather_data,\u001b[39m\"\u001b[39m\u001b[39m\\n\u001b[39;00m\u001b[39m\"\u001b[39m)\n\u001b[0;32m     <a href='vscode-notebook-cell:/c%3A/Users/nagrimault/Documents/fac/s2/PROJET_LIBRE/main_api_meteo.ipynb#W3sZmlsZQ%3D%3D?line=23'>24</a>\u001b[0m \u001b[39mprint\u001b[39m(\u001b[39m\"\u001b[39m\u001b[39mMéteo à\u001b[39m\u001b[39m\"\u001b[39m, address)\n",
      "\u001b[1;32mc:\\Users\\nagrimault\\Documents\\fac\\s2\\PROJET_LIBRE\\main_api_meteo.ipynb Cell 5\u001b[0m line \u001b[0;36m1\n\u001b[0;32m      <a href='vscode-notebook-cell:/c%3A/Users/nagrimault/Documents/fac/s2/PROJET_LIBRE/main_api_meteo.ipynb#W3sZmlsZQ%3D%3D?line=8'>9</a>\u001b[0m \u001b[39mdef\u001b[39;00m \u001b[39mget_current_weather\u001b[39m(address, api_key):\n\u001b[1;32m---> <a href='vscode-notebook-cell:/c%3A/Users/nagrimault/Documents/fac/s2/PROJET_LIBRE/main_api_meteo.ipynb#W3sZmlsZQ%3D%3D?line=9'>10</a>\u001b[0m     latitude, longitude \u001b[39m=\u001b[39m get_coordinates(address)\n\u001b[0;32m     <a href='vscode-notebook-cell:/c%3A/Users/nagrimault/Documents/fac/s2/PROJET_LIBRE/main_api_meteo.ipynb#W3sZmlsZQ%3D%3D?line=10'>11</a>\u001b[0m     \u001b[39mprint\u001b[39m(latitude,\u001b[39m\"\u001b[39m\u001b[39m \u001b[39m\u001b[39m\"\u001b[39m,longitude)\n\u001b[0;32m     <a href='vscode-notebook-cell:/c%3A/Users/nagrimault/Documents/fac/s2/PROJET_LIBRE/main_api_meteo.ipynb#W3sZmlsZQ%3D%3D?line=11'>12</a>\u001b[0m     url \u001b[39m=\u001b[39m \u001b[39mf\u001b[39m\u001b[39m\"\u001b[39m\u001b[39mhttps://api.openweathermap.org/data/2.5/weather?lat=\u001b[39m\u001b[39m{\u001b[39;00mlatitude\u001b[39m}\u001b[39;00m\u001b[39m&lon=\u001b[39m\u001b[39m{\u001b[39;00mlongitude\u001b[39m}\u001b[39;00m\u001b[39m&appid=\u001b[39m\u001b[39m{\u001b[39;00mapi_key\u001b[39m}\u001b[39;00m\u001b[39m&lang=fr&units=metric\u001b[39m\u001b[39m\"\u001b[39m\n",
      "\u001b[1;32mc:\\Users\\nagrimault\\Documents\\fac\\s2\\PROJET_LIBRE\\main_api_meteo.ipynb Cell 5\u001b[0m line \u001b[0;36m6\n\u001b[0;32m      <a href='vscode-notebook-cell:/c%3A/Users/nagrimault/Documents/fac/s2/PROJET_LIBRE/main_api_meteo.ipynb#W3sZmlsZQ%3D%3D?line=3'>4</a>\u001b[0m \u001b[39mdef\u001b[39;00m \u001b[39mget_coordinates\u001b[39m(address):\n\u001b[0;32m      <a href='vscode-notebook-cell:/c%3A/Users/nagrimault/Documents/fac/s2/PROJET_LIBRE/main_api_meteo.ipynb#W3sZmlsZQ%3D%3D?line=4'>5</a>\u001b[0m     geolocator \u001b[39m=\u001b[39m Nominatim(user_agent\u001b[39m=\u001b[39m\u001b[39m\"\u001b[39m\u001b[39mgeoapiExercises\u001b[39m\u001b[39m\"\u001b[39m)\n\u001b[1;32m----> <a href='vscode-notebook-cell:/c%3A/Users/nagrimault/Documents/fac/s2/PROJET_LIBRE/main_api_meteo.ipynb#W3sZmlsZQ%3D%3D?line=5'>6</a>\u001b[0m     location \u001b[39m=\u001b[39m geolocator\u001b[39m.\u001b[39;49mgeocode(address)\n\u001b[0;32m      <a href='vscode-notebook-cell:/c%3A/Users/nagrimault/Documents/fac/s2/PROJET_LIBRE/main_api_meteo.ipynb#W3sZmlsZQ%3D%3D?line=6'>7</a>\u001b[0m     \u001b[39mreturn\u001b[39;00m location\u001b[39m.\u001b[39mlatitude, location\u001b[39m.\u001b[39mlongitude\n",
      "File \u001b[1;32mc:\\Python311\\Lib\\site-packages\\geopy\\geocoders\\nominatim.py:297\u001b[0m, in \u001b[0;36mNominatim.geocode\u001b[1;34m(self, query, exactly_one, timeout, limit, addressdetails, language, geometry, extratags, country_codes, viewbox, bounded, featuretype, namedetails)\u001b[0m\n\u001b[0;32m    295\u001b[0m logger\u001b[39m.\u001b[39mdebug(\u001b[39m\"\u001b[39m\u001b[39m%s\u001b[39;00m\u001b[39m.geocode: \u001b[39m\u001b[39m%s\u001b[39;00m\u001b[39m\"\u001b[39m, \u001b[39mself\u001b[39m\u001b[39m.\u001b[39m\u001b[39m__class__\u001b[39m\u001b[39m.\u001b[39m\u001b[39m__name__\u001b[39m, url)\n\u001b[0;32m    296\u001b[0m callback \u001b[39m=\u001b[39m partial(\u001b[39mself\u001b[39m\u001b[39m.\u001b[39m_parse_json, exactly_one\u001b[39m=\u001b[39mexactly_one)\n\u001b[1;32m--> 297\u001b[0m \u001b[39mreturn\u001b[39;00m \u001b[39mself\u001b[39;49m\u001b[39m.\u001b[39;49m_call_geocoder(url, callback, timeout\u001b[39m=\u001b[39;49mtimeout)\n",
      "File \u001b[1;32mc:\\Python311\\Lib\\site-packages\\geopy\\geocoders\\base.py:388\u001b[0m, in \u001b[0;36mGeocoder._call_geocoder\u001b[1;34m(self, url, callback, timeout, is_json, headers)\u001b[0m\n\u001b[0;32m    386\u001b[0m         \u001b[39mreturn\u001b[39;00m callback(result)\n\u001b[0;32m    387\u001b[0m \u001b[39mexcept\u001b[39;00m \u001b[39mException\u001b[39;00m \u001b[39mas\u001b[39;00m error:\n\u001b[1;32m--> 388\u001b[0m     res \u001b[39m=\u001b[39m \u001b[39mself\u001b[39;49m\u001b[39m.\u001b[39;49m_adapter_error_handler(error)\n\u001b[0;32m    389\u001b[0m     \u001b[39mif\u001b[39;00m res \u001b[39mis\u001b[39;00m NONE_RESULT:\n\u001b[0;32m    390\u001b[0m         \u001b[39mreturn\u001b[39;00m \u001b[39mNone\u001b[39;00m\n",
      "File \u001b[1;32mc:\\Python311\\Lib\\site-packages\\geopy\\geocoders\\base.py:411\u001b[0m, in \u001b[0;36mGeocoder._adapter_error_handler\u001b[1;34m(self, error)\u001b[0m\n\u001b[0;32m    407\u001b[0m         \u001b[39mraise\u001b[39;00m exc_cls(\n\u001b[0;32m    408\u001b[0m             \u001b[39mstr\u001b[39m(error), retry_after\u001b[39m=\u001b[39mget_retry_after(error\u001b[39m.\u001b[39mheaders)\n\u001b[0;32m    409\u001b[0m         ) \u001b[39mfrom\u001b[39;00m \u001b[39merror\u001b[39;00m\n\u001b[0;32m    410\u001b[0m     \u001b[39melse\u001b[39;00m:\n\u001b[1;32m--> 411\u001b[0m         \u001b[39mraise\u001b[39;00m exc_cls(\u001b[39mstr\u001b[39m(error)) \u001b[39mfrom\u001b[39;00m \u001b[39merror\u001b[39;00m\n\u001b[0;32m    412\u001b[0m \u001b[39melse\u001b[39;00m:\n\u001b[0;32m    413\u001b[0m     res \u001b[39m=\u001b[39m \u001b[39mself\u001b[39m\u001b[39m.\u001b[39m_geocoder_exception_handler(error)\n",
      "\u001b[1;31mGeocoderInsufficientPrivileges\u001b[0m: Non-successful status code 403"
     ]
    }
   ],
   "source": [
    "import requests\n",
    "from geopy.geocoders import Nominatim\n",
    "\n",
    "def get_coordinates(address):\n",
    "    geolocator = Nominatim(user_agent=\"geoapiExercises\")\n",
    "    location = geolocator.geocode(address)\n",
    "    return location.latitude, location.longitude\n",
    "\n",
    "def get_current_weather(address, api_key):\n",
    "    latitude, longitude = get_coordinates(address)\n",
    "    print(latitude,\" \",longitude)\n",
    "    url = f\"https://api.openweathermap.org/data/2.5/weather?lat={latitude}&lon={longitude}&appid={api_key}&lang=fr&units=metric\"\n",
    "    response = requests.get(url)\n",
    "    data = response.json()\n",
    "    return data\n",
    "\n",
    "\n",
    "address = \"1 rue de Rivoli, Paris, France\"\n",
    "address2 = \"79 cours de la liberté, Lyon 69007\"\n",
    "\n",
    "weather_data = get_current_weather(address, api_key)\n",
    "print(weather_data,\"\\n\")\n",
    "\n",
    "print(\"Méteo à\", address)\n",
    "print(\"Description:\", weather_data['weather'][0]['description'])\n",
    "print(\"Temperature:\", weather_data['main']['temp'], \"°C\")\n",
    "print(\"Temperature resentie :\", weather_data['main']['feels_like'], \"°C\")\n",
    "print(\"Humidité:\", weather_data['main']['humidity'], \"%\")\n",
    "print(\"Wind Speed:\", weather_data['wind']['speed'], \"m/s\")\n"
   ]
  },
  {
   "cell_type": "code",
   "execution_count": 93,
   "metadata": {},
   "outputs": [
    {
     "name": "stdout",
     "output_type": "stream",
     "text": [
      "[{'name': 'Saint-Hilaire-du-Harcouët', 'local_names': {'fr': 'Saint-Hilaire-du-Harcouët'}, 'lat': 48.5714837, 'lon': -1.085461778865405, 'country': 'FR', 'state': 'Normandy'}, {'name': 'Saint-Hilaire-du-Harcouët', 'local_names': {'fr': 'Saint-Hilaire-du-Harcouët'}, 'lat': 48.5767706, 'lon': -1.0927364, 'country': 'FR', 'state': 'Normandy'}]\n",
      "fr\n",
      "Saint-Hilaire-du-Harcouët\n"
     ]
    }
   ],
   "source": [
    "ville = \"Saint Hilaire du Harcouet\"\n",
    "url = f\"http://api.openweathermap.org/geo/1.0/direct?q={ville}&limit=5&appid={api_key}&lang=fr&units=metric\"\n",
    "\n",
    "response = requests.get(url)\n",
    "data = response.json()\n",
    "print(data)\n",
    "\n",
    "res = data[0]\n",
    "print(list(res[\"local_names\"].keys())[0]) # prendre le plus probable\n",
    "print(list(res[\"local_names\"].values())[0]) # prendre le plus probable\n",
    "\n",
    "\n",
    "def get_current_weather(address, api_key):\n",
    "    latitude, longitude = get_coordinates(address)\n",
    "    print(latitude,\" \",longitude)\n",
    "    url = f\"https://api.openweathermap.org/data/2.5/weather?lat={latitude}&lon={longitude}&appid={api_key}&lang=fr&units=metric\"\n",
    "    response = requests.get(url)\n",
    "    data = response.json()\n",
    "    return data\n",
    "\n",
    "\n",
    "address = \"1 rue de Rivoli, Paris, France\"\n",
    "address2 = \"79 cours de la liberté, Lyon 69007\"\n",
    "\n",
    "weather_data = get_current_weather(address, api_key)\n",
    "print(weather_data,\"\\n\")\n",
    "\n",
    "print(\"Méteo à\", address)\n",
    "print(\"Description:\", weather_data['weather'][0]['description'])\n",
    "print(\"Temperature:\", weather_data['main']['temp'], \"°C\")\n",
    "print(\"Temperature resentie :\", weather_data['main']['feels_like'], \"°C\")\n",
    "print(\"Humidité:\", weather_data['main']['humidity'], \"%\")\n",
    "print(\"Wind Speed:\", weather_data['wind']['speed'], \"m/s\")\n"
   ]
  },
  {
   "cell_type": "markdown",
   "metadata": {},
   "source": [
    "# Prévisons (Forecast 5 jours max, 8 créneaux d'heures dans la journée) pour une ville"
   ]
  },
  {
   "cell_type": "code",
   "execution_count": 78,
   "metadata": {},
   "outputs": [
    {
     "name": "stdout",
     "output_type": "stream",
     "text": [
      "{'dt': 1710342000, 'main': {'temp': 16.2, 'feels_like': 15.02, 'temp_min': 13.88, 'temp_max': 16.2, 'pressure': 1015, 'sea_level': 1015, 'grnd_level': 974, 'humidity': 44, 'temp_kf': 2.32}, 'weather': [{'id': 800, 'main': 'Clear', 'description': 'ciel dégagé', 'icon': '01d'}], 'clouds': {'all': 6}, 'wind': {'speed': 1.96, 'deg': 195, 'gust': 2.07}, 'visibility': 10000, 'pop': 0, 'sys': {'pod': 'd'}, 'dt_txt': '2024-03-13 15:00:00'}\n",
      "{'dt': 1710352800, 'main': {'temp': 14.73, 'feels_like': 13.56, 'temp_min': 11.78, 'temp_max': 14.73, 'pressure': 1016, 'sea_level': 1016, 'grnd_level': 975, 'humidity': 50, 'temp_kf': 2.95}, 'weather': [{'id': 800, 'main': 'Clear', 'description': 'ciel dégagé', 'icon': '01n'}], 'clouds': {'all': 6}, 'wind': {'speed': 1.11, 'deg': 150, 'gust': 1.35}, 'visibility': 10000, 'pop': 0, 'sys': {'pod': 'n'}, 'dt_txt': '2024-03-13 18:00:00'}\n",
      "{'dt': 1710363600, 'main': {'temp': 12.59, 'feels_like': 11.58, 'temp_min': 10.79, 'temp_max': 12.59, 'pressure': 1017, 'sea_level': 1017, 'grnd_level': 976, 'humidity': 64, 'temp_kf': 1.8}, 'weather': [{'id': 801, 'main': 'Clouds', 'description': 'peu nuageux', 'icon': '02n'}], 'clouds': {'all': 15}, 'wind': {'speed': 1.13, 'deg': 100, 'gust': 1.34}, 'visibility': 10000, 'pop': 0, 'sys': {'pod': 'n'}, 'dt_txt': '2024-03-13 21:00:00'}\n",
      "{'dt': 1710374400, 'main': {'temp': 9.63, 'feels_like': 8.93, 'temp_min': 9.63, 'temp_max': 9.63, 'pressure': 1018, 'sea_level': 1018, 'grnd_level': 976, 'humidity': 71, 'temp_kf': 0}, 'weather': [{'id': 801, 'main': 'Clouds', 'description': 'peu nuageux', 'icon': '02n'}], 'clouds': {'all': 18}, 'wind': {'speed': 1.81, 'deg': 50, 'gust': 1.91}, 'visibility': 10000, 'pop': 0, 'sys': {'pod': 'n'}, 'dt_txt': '2024-03-14 00:00:00'}\n",
      "{'dt': 1710385200, 'main': {'temp': 8.7, 'feels_like': 7.6, 'temp_min': 8.7, 'temp_max': 8.7, 'pressure': 1018, 'sea_level': 1018, 'grnd_level': 976, 'humidity': 75, 'temp_kf': 0}, 'weather': [{'id': 801, 'main': 'Clouds', 'description': 'peu nuageux', 'icon': '02n'}], 'clouds': {'all': 13}, 'wind': {'speed': 2.09, 'deg': 58, 'gust': 2.31}, 'visibility': 10000, 'pop': 0, 'sys': {'pod': 'n'}, 'dt_txt': '2024-03-14 03:00:00'}\n",
      "{'dt': 1710396000, 'main': {'temp': 8.19, 'feels_like': 7.25, 'temp_min': 8.19, 'temp_max': 8.19, 'pressure': 1018, 'sea_level': 1018, 'grnd_level': 976, 'humidity': 75, 'temp_kf': 0}, 'weather': [{'id': 802, 'main': 'Clouds', 'description': 'partiellement nuageux', 'icon': '03d'}], 'clouds': {'all': 29}, 'wind': {'speed': 1.82, 'deg': 73, 'gust': 1.87}, 'visibility': 10000, 'pop': 0, 'sys': {'pod': 'd'}, 'dt_txt': '2024-03-14 06:00:00'}\n",
      "{'dt': 1710406800, 'main': {'temp': 11.52, 'feels_like': 10.29, 'temp_min': 11.52, 'temp_max': 11.52, 'pressure': 1019, 'sea_level': 1019, 'grnd_level': 977, 'humidity': 60, 'temp_kf': 0}, 'weather': [{'id': 800, 'main': 'Clear', 'description': 'ciel dégagé', 'icon': '01d'}], 'clouds': {'all': 8}, 'wind': {'speed': 1.06, 'deg': 121, 'gust': 1.73}, 'visibility': 10000, 'pop': 0, 'sys': {'pod': 'd'}, 'dt_txt': '2024-03-14 09:00:00'}\n",
      "{'dt': 1710417600, 'main': {'temp': 13.74, 'feels_like': 12.76, 'temp_min': 13.74, 'temp_max': 13.74, 'pressure': 1019, 'sea_level': 1019, 'grnd_level': 977, 'humidity': 61, 'temp_kf': 0}, 'weather': [{'id': 800, 'main': 'Clear', 'description': 'ciel dégagé', 'icon': '01d'}], 'clouds': {'all': 6}, 'wind': {'speed': 2.81, 'deg': 188, 'gust': 2.95}, 'visibility': 10000, 'pop': 0, 'sys': {'pod': 'd'}, 'dt_txt': '2024-03-14 12:00:00'}\n",
      "{'dt': 1710428400, 'main': {'temp': 12.81, 'feels_like': 12, 'temp_min': 12.81, 'temp_max': 12.81, 'pressure': 1018, 'sea_level': 1018, 'grnd_level': 977, 'humidity': 71, 'temp_kf': 0}, 'weather': [{'id': 803, 'main': 'Clouds', 'description': 'nuageux', 'icon': '04d'}], 'clouds': {'all': 73}, 'wind': {'speed': 3.19, 'deg': 181, 'gust': 3.4}, 'visibility': 10000, 'pop': 0, 'sys': {'pod': 'd'}, 'dt_txt': '2024-03-14 15:00:00'}\n",
      "{'dt': 1710439200, 'main': {'temp': 11.34, 'feels_like': 10.57, 'temp_min': 11.34, 'temp_max': 11.34, 'pressure': 1019, 'sea_level': 1019, 'grnd_level': 977, 'humidity': 78, 'temp_kf': 0}, 'weather': [{'id': 803, 'main': 'Clouds', 'description': 'nuageux', 'icon': '04n'}], 'clouds': {'all': 84}, 'wind': {'speed': 2.01, 'deg': 155, 'gust': 2.77}, 'visibility': 10000, 'pop': 0, 'sys': {'pod': 'n'}, 'dt_txt': '2024-03-14 18:00:00'}\n",
      "{'dt': 1710450000, 'main': {'temp': 10.76, 'feels_like': 10.01, 'temp_min': 10.76, 'temp_max': 10.76, 'pressure': 1020, 'sea_level': 1020, 'grnd_level': 978, 'humidity': 81, 'temp_kf': 0}, 'weather': [{'id': 804, 'main': 'Clouds', 'description': 'couvert', 'icon': '04n'}], 'clouds': {'all': 100}, 'wind': {'speed': 1.1, 'deg': 126, 'gust': 1.57}, 'visibility': 10000, 'pop': 0, 'sys': {'pod': 'n'}, 'dt_txt': '2024-03-14 21:00:00'}\n",
      "{'dt': 1710460800, 'main': {'temp': 10.19, 'feels_like': 9.41, 'temp_min': 10.19, 'temp_max': 10.19, 'pressure': 1019, 'sea_level': 1019, 'grnd_level': 977, 'humidity': 82, 'temp_kf': 0}, 'weather': [{'id': 804, 'main': 'Clouds', 'description': 'couvert', 'icon': '04n'}], 'clouds': {'all': 100}, 'wind': {'speed': 1.3, 'deg': 117, 'gust': 1.37}, 'visibility': 10000, 'pop': 0, 'sys': {'pod': 'n'}, 'dt_txt': '2024-03-15 00:00:00'}\n",
      "{'dt': 1710471600, 'main': {'temp': 9.88, 'feels_like': 9.47, 'temp_min': 9.88, 'temp_max': 9.88, 'pressure': 1018, 'sea_level': 1018, 'grnd_level': 976, 'humidity': 80, 'temp_kf': 0}, 'weather': [{'id': 804, 'main': 'Clouds', 'description': 'couvert', 'icon': '04n'}], 'clouds': {'all': 100}, 'wind': {'speed': 1.54, 'deg': 93, 'gust': 1.56}, 'visibility': 10000, 'pop': 0, 'sys': {'pod': 'n'}, 'dt_txt': '2024-03-15 03:00:00'}\n",
      "{'dt': 1710482400, 'main': {'temp': 9.74, 'feels_like': 9.74, 'temp_min': 9.74, 'temp_max': 9.74, 'pressure': 1018, 'sea_level': 1018, 'grnd_level': 976, 'humidity': 78, 'temp_kf': 0}, 'weather': [{'id': 804, 'main': 'Clouds', 'description': 'couvert', 'icon': '04d'}], 'clouds': {'all': 100}, 'wind': {'speed': 1.06, 'deg': 143, 'gust': 1.67}, 'visibility': 10000, 'pop': 0, 'sys': {'pod': 'd'}, 'dt_txt': '2024-03-15 06:00:00'}\n",
      "{'dt': 1710493200, 'main': {'temp': 11.99, 'feels_like': 10.94, 'temp_min': 11.99, 'temp_max': 11.99, 'pressure': 1019, 'sea_level': 1019, 'grnd_level': 977, 'humidity': 65, 'temp_kf': 0}, 'weather': [{'id': 804, 'main': 'Clouds', 'description': 'couvert', 'icon': '04d'}], 'clouds': {'all': 93}, 'wind': {'speed': 0.24, 'deg': 331, 'gust': 0.77}, 'visibility': 10000, 'pop': 0, 'sys': {'pod': 'd'}, 'dt_txt': '2024-03-15 09:00:00'}\n",
      "{'dt': 1710504000, 'main': {'temp': 14.01, 'feels_like': 12.95, 'temp_min': 14.01, 'temp_max': 14.01, 'pressure': 1018, 'sea_level': 1018, 'grnd_level': 977, 'humidity': 57, 'temp_kf': 0}, 'weather': [{'id': 804, 'main': 'Clouds', 'description': 'couvert', 'icon': '04d'}], 'clouds': {'all': 92}, 'wind': {'speed': 2.33, 'deg': 265, 'gust': 2.67}, 'visibility': 10000, 'pop': 0, 'sys': {'pod': 'd'}, 'dt_txt': '2024-03-15 12:00:00'}\n",
      "{'dt': 1710514800, 'main': {'temp': 14.07, 'feels_like': 13.15, 'temp_min': 14.07, 'temp_max': 14.07, 'pressure': 1017, 'sea_level': 1017, 'grnd_level': 976, 'humidity': 62, 'temp_kf': 0}, 'weather': [{'id': 804, 'main': 'Clouds', 'description': 'couvert', 'icon': '04d'}], 'clouds': {'all': 97}, 'wind': {'speed': 3.44, 'deg': 255, 'gust': 3.75}, 'visibility': 10000, 'pop': 0.03, 'sys': {'pod': 'd'}, 'dt_txt': '2024-03-15 15:00:00'}\n",
      "{'dt': 1710525600, 'main': {'temp': 12.57, 'feels_like': 11.76, 'temp_min': 12.57, 'temp_max': 12.57, 'pressure': 1018, 'sea_level': 1018, 'grnd_level': 977, 'humidity': 72, 'temp_kf': 0}, 'weather': [{'id': 804, 'main': 'Clouds', 'description': 'couvert', 'icon': '04n'}], 'clouds': {'all': 90}, 'wind': {'speed': 3.03, 'deg': 269, 'gust': 4.37}, 'visibility': 10000, 'pop': 0.01, 'sys': {'pod': 'n'}, 'dt_txt': '2024-03-15 18:00:00'}\n",
      "{'dt': 1710536400, 'main': {'temp': 11.6, 'feels_like': 10.88, 'temp_min': 11.6, 'temp_max': 11.6, 'pressure': 1019, 'sea_level': 1019, 'grnd_level': 977, 'humidity': 79, 'temp_kf': 0}, 'weather': [{'id': 800, 'main': 'Clear', 'description': 'ciel dégagé', 'icon': '01n'}], 'clouds': {'all': 6}, 'wind': {'speed': 2.67, 'deg': 285, 'gust': 4.09}, 'visibility': 10000, 'pop': 0, 'sys': {'pod': 'n'}, 'dt_txt': '2024-03-15 21:00:00'}\n",
      "{'dt': 1710547200, 'main': {'temp': 11.68, 'feels_like': 10.91, 'temp_min': 11.68, 'temp_max': 11.68, 'pressure': 1019, 'sea_level': 1019, 'grnd_level': 977, 'humidity': 77, 'temp_kf': 0}, 'weather': [{'id': 800, 'main': 'Clear', 'description': 'ciel dégagé', 'icon': '01n'}], 'clouds': {'all': 3}, 'wind': {'speed': 4.73, 'deg': 313, 'gust': 12.75}, 'visibility': 10000, 'pop': 0, 'sys': {'pod': 'n'}, 'dt_txt': '2024-03-16 00:00:00'}\n",
      "{'dt': 1710558000, 'main': {'temp': 11.38, 'feels_like': 10.4, 'temp_min': 11.38, 'temp_max': 11.38, 'pressure': 1019, 'sea_level': 1019, 'grnd_level': 977, 'humidity': 70, 'temp_kf': 0}, 'weather': [{'id': 800, 'main': 'Clear', 'description': 'ciel dégagé', 'icon': '01n'}], 'clouds': {'all': 0}, 'wind': {'speed': 6.93, 'deg': 316, 'gust': 14.7}, 'visibility': 10000, 'pop': 0, 'sys': {'pod': 'n'}, 'dt_txt': '2024-03-16 03:00:00'}\n",
      "{'dt': 1710568800, 'main': {'temp': 11, 'feels_like': 9.93, 'temp_min': 11, 'temp_max': 11, 'pressure': 1020, 'sea_level': 1020, 'grnd_level': 978, 'humidity': 68, 'temp_kf': 0}, 'weather': [{'id': 801, 'main': 'Clouds', 'description': 'peu nuageux', 'icon': '02d'}], 'clouds': {'all': 13}, 'wind': {'speed': 8.18, 'deg': 314, 'gust': 15.47}, 'visibility': 10000, 'pop': 0, 'sys': {'pod': 'd'}, 'dt_txt': '2024-03-16 06:00:00'}\n",
      "{'dt': 1710579600, 'main': {'temp': 13.15, 'feels_like': 12.06, 'temp_min': 13.15, 'temp_max': 13.15, 'pressure': 1020, 'sea_level': 1020, 'grnd_level': 979, 'humidity': 59, 'temp_kf': 0}, 'weather': [{'id': 800, 'main': 'Clear', 'description': 'ciel dégagé', 'icon': '01d'}], 'clouds': {'all': 0}, 'wind': {'speed': 8, 'deg': 316, 'gust': 12.65}, 'visibility': 10000, 'pop': 0, 'sys': {'pod': 'd'}, 'dt_txt': '2024-03-16 09:00:00'}\n",
      "{'dt': 1710590400, 'main': {'temp': 16.41, 'feels_like': 15.28, 'temp_min': 16.41, 'temp_max': 16.41, 'pressure': 1020, 'sea_level': 1020, 'grnd_level': 979, 'humidity': 45, 'temp_kf': 0}, 'weather': [{'id': 800, 'main': 'Clear', 'description': 'ciel dégagé', 'icon': '01d'}], 'clouds': {'all': 2}, 'wind': {'speed': 8.82, 'deg': 312, 'gust': 11.15}, 'visibility': 10000, 'pop': 0, 'sys': {'pod': 'd'}, 'dt_txt': '2024-03-16 12:00:00'}\n",
      "{'dt': 1710601200, 'main': {'temp': 16.4, 'feels_like': 15.35, 'temp_min': 16.4, 'temp_max': 16.4, 'pressure': 1019, 'sea_level': 1019, 'grnd_level': 978, 'humidity': 48, 'temp_kf': 0}, 'weather': [{'id': 803, 'main': 'Clouds', 'description': 'nuageux', 'icon': '04d'}], 'clouds': {'all': 68}, 'wind': {'speed': 9.35, 'deg': 308, 'gust': 12.27}, 'visibility': 10000, 'pop': 0, 'sys': {'pod': 'd'}, 'dt_txt': '2024-03-16 15:00:00'}\n",
      "{'dt': 1710612000, 'main': {'temp': 14.38, 'feels_like': 13.23, 'temp_min': 14.38, 'temp_max': 14.38, 'pressure': 1020, 'sea_level': 1020, 'grnd_level': 978, 'humidity': 52, 'temp_kf': 0}, 'weather': [{'id': 803, 'main': 'Clouds', 'description': 'nuageux', 'icon': '04n'}], 'clouds': {'all': 84}, 'wind': {'speed': 6.15, 'deg': 318, 'gust': 12.33}, 'visibility': 10000, 'pop': 0, 'sys': {'pod': 'n'}, 'dt_txt': '2024-03-16 18:00:00'}\n",
      "{'dt': 1710622800, 'main': {'temp': 12.79, 'feels_like': 11.69, 'temp_min': 12.79, 'temp_max': 12.79, 'pressure': 1020, 'sea_level': 1020, 'grnd_level': 979, 'humidity': 60, 'temp_kf': 0}, 'weather': [{'id': 804, 'main': 'Clouds', 'description': 'couvert', 'icon': '04n'}], 'clouds': {'all': 100}, 'wind': {'speed': 2.32, 'deg': 336, 'gust': 2.84}, 'visibility': 10000, 'pop': 0, 'sys': {'pod': 'n'}, 'dt_txt': '2024-03-16 21:00:00'}\n",
      "{'dt': 1710633600, 'main': {'temp': 11.74, 'feels_like': 10.85, 'temp_min': 11.74, 'temp_max': 11.74, 'pressure': 1022, 'sea_level': 1022, 'grnd_level': 980, 'humidity': 72, 'temp_kf': 0}, 'weather': [{'id': 804, 'main': 'Clouds', 'description': 'couvert', 'icon': '04n'}], 'clouds': {'all': 100}, 'wind': {'speed': 1.55, 'deg': 130, 'gust': 1.94}, 'visibility': 10000, 'pop': 0, 'sys': {'pod': 'n'}, 'dt_txt': '2024-03-17 00:00:00'}\n",
      "{'dt': 1710644400, 'main': {'temp': 10.75, 'feels_like': 9.92, 'temp_min': 10.75, 'temp_max': 10.75, 'pressure': 1021, 'sea_level': 1021, 'grnd_level': 980, 'humidity': 78, 'temp_kf': 0}, 'weather': [{'id': 804, 'main': 'Clouds', 'description': 'couvert', 'icon': '04n'}], 'clouds': {'all': 97}, 'wind': {'speed': 1.29, 'deg': 62, 'gust': 1.35}, 'visibility': 10000, 'pop': 0, 'sys': {'pod': 'n'}, 'dt_txt': '2024-03-17 03:00:00'}\n",
      "{'dt': 1710655200, 'main': {'temp': 10.33, 'feels_like': 9.46, 'temp_min': 10.33, 'temp_max': 10.33, 'pressure': 1022, 'sea_level': 1022, 'grnd_level': 980, 'humidity': 78, 'temp_kf': 0}, 'weather': [{'id': 804, 'main': 'Clouds', 'description': 'couvert', 'icon': '04d'}], 'clouds': {'all': 91}, 'wind': {'speed': 2.2, 'deg': 77, 'gust': 2.29}, 'visibility': 10000, 'pop': 0, 'sys': {'pod': 'd'}, 'dt_txt': '2024-03-17 06:00:00'}\n",
      "{'dt': 1710666000, 'main': {'temp': 13.67, 'feels_like': 12.79, 'temp_min': 13.67, 'temp_max': 13.67, 'pressure': 1023, 'sea_level': 1023, 'grnd_level': 981, 'humidity': 65, 'temp_kf': 0}, 'weather': [{'id': 804, 'main': 'Clouds', 'description': 'couvert', 'icon': '04d'}], 'clouds': {'all': 95}, 'wind': {'speed': 1.26, 'deg': 146, 'gust': 1.82}, 'visibility': 10000, 'pop': 0, 'sys': {'pod': 'd'}, 'dt_txt': '2024-03-17 09:00:00'}\n",
      "{'dt': 1710676800, 'main': {'temp': 15.53, 'feels_like': 14.76, 'temp_min': 15.53, 'temp_max': 15.53, 'pressure': 1022, 'sea_level': 1022, 'grnd_level': 981, 'humidity': 62, 'temp_kf': 0}, 'weather': [{'id': 804, 'main': 'Clouds', 'description': 'couvert', 'icon': '04d'}], 'clouds': {'all': 97}, 'wind': {'speed': 3.9, 'deg': 163, 'gust': 4.35}, 'visibility': 10000, 'pop': 0, 'sys': {'pod': 'd'}, 'dt_txt': '2024-03-17 12:00:00'}\n",
      "{'dt': 1710687600, 'main': {'temp': 15.15, 'feels_like': 14.39, 'temp_min': 15.15, 'temp_max': 15.15, 'pressure': 1021, 'sea_level': 1021, 'grnd_level': 979, 'humidity': 64, 'temp_kf': 0}, 'weather': [{'id': 804, 'main': 'Clouds', 'description': 'couvert', 'icon': '04d'}], 'clouds': {'all': 98}, 'wind': {'speed': 4.95, 'deg': 162, 'gust': 5.94}, 'visibility': 10000, 'pop': 0, 'sys': {'pod': 'd'}, 'dt_txt': '2024-03-17 15:00:00'}\n",
      "{'dt': 1710698400, 'main': {'temp': 13.62, 'feels_like': 12.87, 'temp_min': 13.62, 'temp_max': 13.62, 'pressure': 1020, 'sea_level': 1020, 'grnd_level': 979, 'humidity': 70, 'temp_kf': 0}, 'weather': [{'id': 804, 'main': 'Clouds', 'description': 'couvert', 'icon': '04n'}], 'clouds': {'all': 99}, 'wind': {'speed': 2.89, 'deg': 141, 'gust': 4.27}, 'visibility': 10000, 'pop': 0, 'sys': {'pod': 'n'}, 'dt_txt': '2024-03-17 18:00:00'}\n",
      "{'dt': 1710709200, 'main': {'temp': 12.91, 'feels_like': 12.14, 'temp_min': 12.91, 'temp_max': 12.91, 'pressure': 1020, 'sea_level': 1020, 'grnd_level': 979, 'humidity': 72, 'temp_kf': 0}, 'weather': [{'id': 804, 'main': 'Clouds', 'description': 'couvert', 'icon': '04n'}], 'clouds': {'all': 100}, 'wind': {'speed': 2.79, 'deg': 127, 'gust': 3.77}, 'visibility': 10000, 'pop': 0, 'sys': {'pod': 'n'}, 'dt_txt': '2024-03-17 21:00:00'}\n",
      "{'dt': 1710720000, 'main': {'temp': 12.01, 'feels_like': 11.17, 'temp_min': 12.01, 'temp_max': 12.01, 'pressure': 1019, 'sea_level': 1019, 'grnd_level': 977, 'humidity': 73, 'temp_kf': 0}, 'weather': [{'id': 804, 'main': 'Clouds', 'description': 'couvert', 'icon': '04n'}], 'clouds': {'all': 100}, 'wind': {'speed': 3.16, 'deg': 109, 'gust': 4.27}, 'visibility': 10000, 'pop': 0, 'sys': {'pod': 'n'}, 'dt_txt': '2024-03-18 00:00:00'}\n",
      "{'dt': 1710720000, 'main': {'temp': 12.01, 'feels_like': 11.17, 'temp_min': 12.01, 'temp_max': 12.01, 'pressure': 1019, 'sea_level': 1019, 'grnd_level': 977, 'humidity': 73, 'temp_kf': 0}, 'weather': [{'id': 804, 'main': 'Clouds', 'description': 'couvert', 'icon': '04n'}], 'clouds': {'all': 100}, 'wind': {'speed': 3.16, 'deg': 109, 'gust': 4.27}, 'visibility': 10000, 'pop': 0, 'sys': {'pod': 'n'}, 'dt_txt': '2024-03-18 00:00:00'} \n",
      "\n",
      "Prévision sur  Marseille le 2024-03-18\n",
      "Derniène mise à jour: 2024-03-18 00:00:00\n",
      "Description: couvert\n",
      "Temperature: 12.01 °C\n",
      "Humidité: 73 %\n",
      "Wind Speed: 3.16 m/s\n"
     ]
    }
   ],
   "source": [
    "import requests\n",
    "\n",
    "def get_forecast(city, date, api_key):\n",
    "    url = f\"https://api.openweathermap.org/data/2.5/forecast?q={city}&appid={api_key}&lang=fr&units=metric\"\n",
    "    response = requests.get(url)\n",
    "    data = response.json()\n",
    "    \n",
    "    # Recherche de la prévision pour la date spécifiée\n",
    "    for forecast in data['list']:\n",
    "        print(forecast)\n",
    "        if forecast['dt_txt'].split()[0] == date:\n",
    "            return forecast\n",
    "\n",
    "    return None\n",
    "\n",
    "\n",
    "city = \"Marseille\"\n",
    "date = \"2024-03-18\"  # Date au format \"YYYY-MM-DD\"\n",
    "\n",
    "forecast_data = get_forecast(city, date, api_key)\n",
    "print(forecast_data,\"\\n\")\n",
    "\n",
    "\n",
    "if forecast_data:\n",
    "    print(\"Prévision sur \", city, \"le\", date)\n",
    "    print(\"Derniène mise à jour:\", forecast_data[\"dt_txt\"])\n",
    "    print(\"Description:\", forecast_data['weather'][0]['description'])\n",
    "    print(\"Temperature:\", forecast_data['main']['temp'], \"°C\")\n",
    "    print(\"Humidité:\", forecast_data['main']['humidity'], \"%\")\n",
    "    print(\"Wind Speed:\", forecast_data['wind']['speed'], \"m/s\")\n",
    "else:\n",
    "    print(\"No forecast available for\", city, \"on\", date)\n"
   ]
  },
  {
   "cell_type": "markdown",
   "metadata": {},
   "source": [
    "# Heures de prévisions disponibles :\n",
    "\n",
    "00:00:00\n",
    "\n",
    "03:00:00\n",
    "\n",
    "06:00:00\n",
    "\n",
    "09:00:00\n",
    "\n",
    "12:00:00\n",
    "\n",
    "15:00:00\n",
    "\n",
    "18:00:00\n",
    "\n",
    "21:00:00\n",
    "\n",
    "si un mec ne précise pas la température alors c'est la dernière qui est prise"
   ]
  },
  {
   "cell_type": "code",
   "execution_count": null,
   "metadata": {},
   "outputs": [
    {
     "ename": "KeyError",
     "evalue": "'list'",
     "output_type": "error",
     "traceback": [
      "\u001b[1;31m---------------------------------------------------------------------------\u001b[0m",
      "\u001b[1;31mKeyError\u001b[0m                                  Traceback (most recent call last)",
      "\u001b[1;32mc:\\Users\\nagrimault\\Documents\\fac\\s2\\PROJET_LIBRE\\main_api_meteo.ipynb Cell 8\u001b[0m line \u001b[0;36m2\n\u001b[0;32m     <a href='vscode-notebook-cell:/c%3A/Users/nagrimault/Documents/fac/s2/PROJET_LIBRE/main_api_meteo.ipynb#X10sZmlsZQ%3D%3D?line=18'>19</a>\u001b[0m date \u001b[39m=\u001b[39m \u001b[39m\"\u001b[39m\u001b[39m2024-03-16\u001b[39m\u001b[39m\"\u001b[39m  \u001b[39m# Date au format \"YYYY-MM-DD\"\u001b[39;00m\n\u001b[0;32m     <a href='vscode-notebook-cell:/c%3A/Users/nagrimault/Documents/fac/s2/PROJET_LIBRE/main_api_meteo.ipynb#X10sZmlsZQ%3D%3D?line=19'>20</a>\u001b[0m time \u001b[39m=\u001b[39m \u001b[39m\"\u001b[39m\u001b[39m15\u001b[39m\u001b[39m\"\u001b[39m  \u001b[39m# Heure au format \"HH\", ça depends de l'heure que \u001b[39;00m\n\u001b[1;32m---> <a href='vscode-notebook-cell:/c%3A/Users/nagrimault/Documents/fac/s2/PROJET_LIBRE/main_api_meteo.ipynb#X10sZmlsZQ%3D%3D?line=21'>22</a>\u001b[0m forecast_data \u001b[39m=\u001b[39m get_forecast(city, date, time, api_key)\n\u001b[0;32m     <a href='vscode-notebook-cell:/c%3A/Users/nagrimault/Documents/fac/s2/PROJET_LIBRE/main_api_meteo.ipynb#X10sZmlsZQ%3D%3D?line=23'>24</a>\u001b[0m \u001b[39mif\u001b[39;00m forecast_data:\n\u001b[0;32m     <a href='vscode-notebook-cell:/c%3A/Users/nagrimault/Documents/fac/s2/PROJET_LIBRE/main_api_meteo.ipynb#X10sZmlsZQ%3D%3D?line=24'>25</a>\u001b[0m     \u001b[39mprint\u001b[39m(\u001b[39m\"\u001b[39m\u001b[39m\\n\u001b[39;00m\u001b[39m\"\u001b[39m)\n",
      "\u001b[1;32mc:\\Users\\nagrimault\\Documents\\fac\\s2\\PROJET_LIBRE\\main_api_meteo.ipynb Cell 8\u001b[0m line \u001b[0;36m9\n\u001b[0;32m      <a href='vscode-notebook-cell:/c%3A/Users/nagrimault/Documents/fac/s2/PROJET_LIBRE/main_api_meteo.ipynb#X10sZmlsZQ%3D%3D?line=5'>6</a>\u001b[0m data \u001b[39m=\u001b[39m response\u001b[39m.\u001b[39mjson()\n\u001b[0;32m      <a href='vscode-notebook-cell:/c%3A/Users/nagrimault/Documents/fac/s2/PROJET_LIBRE/main_api_meteo.ipynb#X10sZmlsZQ%3D%3D?line=7'>8</a>\u001b[0m \u001b[39m# Recherche de la prévision pour la date et l'heure spécifiées\u001b[39;00m\n\u001b[1;32m----> <a href='vscode-notebook-cell:/c%3A/Users/nagrimault/Documents/fac/s2/PROJET_LIBRE/main_api_meteo.ipynb#X10sZmlsZQ%3D%3D?line=8'>9</a>\u001b[0m \u001b[39mfor\u001b[39;00m forecast \u001b[39min\u001b[39;00m data[\u001b[39m'\u001b[39;49m\u001b[39mlist\u001b[39;49m\u001b[39m'\u001b[39;49m]:\n\u001b[0;32m     <a href='vscode-notebook-cell:/c%3A/Users/nagrimault/Documents/fac/s2/PROJET_LIBRE/main_api_meteo.ipynb#X10sZmlsZQ%3D%3D?line=9'>10</a>\u001b[0m     \u001b[39mprint\u001b[39m(forecast)\n\u001b[0;32m     <a href='vscode-notebook-cell:/c%3A/Users/nagrimault/Documents/fac/s2/PROJET_LIBRE/main_api_meteo.ipynb#X10sZmlsZQ%3D%3D?line=10'>11</a>\u001b[0m     \u001b[39mprint\u001b[39m(forecast[\u001b[39m\"\u001b[39m\u001b[39mdt_txt\u001b[39m\u001b[39m\"\u001b[39m],\u001b[39m\"\u001b[39m\u001b[39m , temperature : \u001b[39m\u001b[39m\"\u001b[39m,forecast_data[\u001b[39m'\u001b[39m\u001b[39mmain\u001b[39m\u001b[39m'\u001b[39m][\u001b[39m'\u001b[39m\u001b[39mtemp\u001b[39m\u001b[39m'\u001b[39m],\u001b[39m\"\u001b[39m\u001b[39m°C\u001b[39m\u001b[39m\"\u001b[39m)\n",
      "\u001b[1;31mKeyError\u001b[0m: 'list'"
     ]
    }
   ],
   "source": [
    "import requests\n",
    "\n",
    "def get_forecast(city, date, time, api_key):\n",
    "    url = f\"https://api.openweathermap.org/data/2.5/forecast?q={city}&appid={api_key}&lang=fr&units=metric\"\n",
    "    response = requests.get(url)\n",
    "    data = response.json()\n",
    "    \n",
    "    # Recherche de la prévision pour la date et l'heure spécifiées\n",
    "    for forecast in data['list']:\n",
    "        print(forecast)\n",
    "        print(forecast[\"dt_txt\"],\" , temperature : \",forecast_data['main']['temp'],\"°C\")\n",
    "        if forecast['dt_txt'].split()[0] == date and forecast['dt_txt'].split()[1] == time+\":00:00\":\n",
    "            return forecast\n",
    "\n",
    "    return None\n",
    "\n",
    "\n",
    "city = \"Lyon\"\n",
    "date = \"2024-03-16\"  # Date au format \"YYYY-MM-DD\"\n",
    "time = \"15\"  # Heure au format \"HH\", ça depends de l'heure que \n",
    "\n",
    "forecast_data = get_forecast(city, date, time, api_key)\n",
    "\n",
    "if forecast_data:\n",
    "    print(\"\\n\")\n",
    "    print(\"Prévision à\", time+\":00\", \"à\", city, \"le\", date)\n",
    "    print(\"Derniène mise à jour:\", forecast_data[\"dt_txt\"])\n",
    "    print(\"Description:\", forecast_data['weather'][0]['description'])\n",
    "    print(\"Temperature:\", forecast_data['main']['temp'], \"°C\")\n",
    "    print(\"Humidity:\", forecast_data['main']['humidity'], \"%\")\n",
    "    print(\"Wind Speed:\", forecast_data['wind']['speed'], \"m/s\")\n",
    "else:\n",
    "    print(\"No forecast available for\", city, \"on\", date, \"at\", time+\":00\")\n"
   ]
  },
  {
   "cell_type": "code",
   "execution_count": null,
   "metadata": {},
   "outputs": [
    {
     "name": "stdout",
     "output_type": "stream",
     "text": [
      "{'cod': 401, 'message': 'Invalid API key. Please see https://openweathermap.org/faq#error401 for more info.'}\n",
      "Weather in Lyon\n"
     ]
    },
    {
     "ename": "KeyError",
     "evalue": "'weather'",
     "output_type": "error",
     "traceback": [
      "\u001b[1;31m---------------------------------------------------------------------------\u001b[0m",
      "\u001b[1;31mKeyError\u001b[0m                                  Traceback (most recent call last)",
      "\u001b[1;32mc:\\Users\\nagrimault\\Documents\\fac\\s2\\PROJET_LIBRE\\main_api_meteo.ipynb Cell 9\u001b[0m line \u001b[0;36m1\n\u001b[0;32m     <a href='vscode-notebook-cell:/c%3A/Users/nagrimault/Documents/fac/s2/PROJET_LIBRE/main_api_meteo.ipynb#X11sZmlsZQ%3D%3D?line=14'>15</a>\u001b[0m \u001b[39mprint\u001b[39m(weather_data)\n\u001b[0;32m     <a href='vscode-notebook-cell:/c%3A/Users/nagrimault/Documents/fac/s2/PROJET_LIBRE/main_api_meteo.ipynb#X11sZmlsZQ%3D%3D?line=15'>16</a>\u001b[0m \u001b[39mprint\u001b[39m(\u001b[39m\"\u001b[39m\u001b[39mWeather in\u001b[39m\u001b[39m\"\u001b[39m, city)\n\u001b[1;32m---> <a href='vscode-notebook-cell:/c%3A/Users/nagrimault/Documents/fac/s2/PROJET_LIBRE/main_api_meteo.ipynb#X11sZmlsZQ%3D%3D?line=16'>17</a>\u001b[0m \u001b[39mprint\u001b[39m(\u001b[39m\"\u001b[39m\u001b[39mDescription:\u001b[39m\u001b[39m\"\u001b[39m, weather_data[\u001b[39m'\u001b[39;49m\u001b[39mweather\u001b[39;49m\u001b[39m'\u001b[39;49m][\u001b[39m0\u001b[39m][\u001b[39m'\u001b[39m\u001b[39mdescription\u001b[39m\u001b[39m'\u001b[39m])\n\u001b[0;32m     <a href='vscode-notebook-cell:/c%3A/Users/nagrimault/Documents/fac/s2/PROJET_LIBRE/main_api_meteo.ipynb#X11sZmlsZQ%3D%3D?line=17'>18</a>\u001b[0m \u001b[39mprint\u001b[39m(\u001b[39m\"\u001b[39m\u001b[39mTemperature:\u001b[39m\u001b[39m\"\u001b[39m, weather_data[\u001b[39m'\u001b[39m\u001b[39mmain\u001b[39m\u001b[39m'\u001b[39m][\u001b[39m'\u001b[39m\u001b[39mtemp\u001b[39m\u001b[39m'\u001b[39m],\u001b[39m\"\u001b[39m\u001b[39m °C\u001b[39m\u001b[39m\"\u001b[39m)\n\u001b[0;32m     <a href='vscode-notebook-cell:/c%3A/Users/nagrimault/Documents/fac/s2/PROJET_LIBRE/main_api_meteo.ipynb#X11sZmlsZQ%3D%3D?line=18'>19</a>\u001b[0m \u001b[39mprint\u001b[39m(\u001b[39m\"\u001b[39m\u001b[39mHumidity:\u001b[39m\u001b[39m\"\u001b[39m, weather_data[\u001b[39m'\u001b[39m\u001b[39mmain\u001b[39m\u001b[39m'\u001b[39m][\u001b[39m'\u001b[39m\u001b[39mhumidity\u001b[39m\u001b[39m'\u001b[39m], \u001b[39m\"\u001b[39m\u001b[39m%\u001b[39m\u001b[39m\"\u001b[39m)\n",
      "\u001b[1;31mKeyError\u001b[0m: 'weather'"
     ]
    }
   ],
   "source": [
    "import requests\n",
    "\n",
    "def get_current_weather(api_key):\n",
    "    url = f\"https://api.openweathermap.org/data/2.5/onecall?lat=33.44&lon=-94.04&exclude=hourly&appid={api_key}\"\n",
    "    response = requests.get(url)\n",
    "    data = response.json()\n",
    "    return data\n",
    "\n",
    "# Remplacez \"YOUR_API_KEY\" par votre propre clé API\n",
    "api_key = \"7e6de904a7efae91cc0efa405bbbe1ad\"\n",
    "adress = \"79 cours de la liberté, Lyon 69007\"\n",
    "city = \"Lyon\"\n",
    "\n",
    "weather_data = get_current_weather(api_key)\n",
    "print(weather_data)\n",
    "print(\"Weather in\", city)\n",
    "print(\"Description:\", weather_data['weather'][0]['description'])\n",
    "print(\"Temperature:\", weather_data['main']['temp'],\" °C\")\n",
    "print(\"Humidity:\", weather_data['main']['humidity'], \"%\")\n",
    "print(\"Wind Speed:\", weather_data['wind']['speed'], \"m/s\")\n"
   ]
  },
  {
   "cell_type": "markdown",
   "metadata": {},
   "source": [
    "exclude\toptional\t\n",
    "\n",
    "By using this parameter you can exclude some parts of the weather data from the API response. It should be a comma-delimited list (without spaces).\n",
    "\n",
    "\n",
    "Available values:\n",
    "\n",
    "current\n",
    "\n",
    "minutely\n",
    "\n",
    "hourly\n",
    "\n",
    "daily\n",
    "\n",
    "alerts"
   ]
  },
  {
   "cell_type": "code",
   "execution_count": 82,
   "metadata": {},
   "outputs": [
    {
     "name": "stdout",
     "output_type": "stream",
     "text": [
      "{'cod': 401, 'message': 'Invalid API key. Please see https://openweathermap.org/faq#error401 for more info.'}\n"
     ]
    },
    {
     "ename": "KeyError",
     "evalue": "0",
     "output_type": "error",
     "traceback": [
      "\u001b[1;31m---------------------------------------------------------------------------\u001b[0m",
      "\u001b[1;31mKeyError\u001b[0m                                  Traceback (most recent call last)",
      "\u001b[1;32mc:\\Users\\nagrimault\\Documents\\fac\\s2\\PROJET_LIBRE\\main_api_meteo.ipynb Cell 12\u001b[0m line \u001b[0;36m6\n\u001b[0;32m      <a href='vscode-notebook-cell:/c%3A/Users/nagrimault/Documents/fac/s2/PROJET_LIBRE/main_api_meteo.ipynb#X22sZmlsZQ%3D%3D?line=3'>4</a>\u001b[0m data \u001b[39m=\u001b[39m response\u001b[39m.\u001b[39mjson()\n\u001b[0;32m      <a href='vscode-notebook-cell:/c%3A/Users/nagrimault/Documents/fac/s2/PROJET_LIBRE/main_api_meteo.ipynb#X22sZmlsZQ%3D%3D?line=4'>5</a>\u001b[0m \u001b[39mprint\u001b[39m(data)\n\u001b[1;32m----> <a href='vscode-notebook-cell:/c%3A/Users/nagrimault/Documents/fac/s2/PROJET_LIBRE/main_api_meteo.ipynb#X22sZmlsZQ%3D%3D?line=5'>6</a>\u001b[0m \u001b[39mprint\u001b[39m(data[\u001b[39m0\u001b[39;49m][\u001b[39m\"\u001b[39m\u001b[39mlocal_names\u001b[39m\u001b[39m\"\u001b[39m][\u001b[39m\"\u001b[39m\u001b[39mfr\u001b[39m\u001b[39m\"\u001b[39m]) \u001b[39m# prendre le plus probable\u001b[39;00m\n",
      "\u001b[1;31mKeyError\u001b[0m: 0"
     ]
    }
   ],
   "source": [
    "part = \"minutely\"\n",
    "\n",
    "url = f\"https://api.openweathermap.org/data/2.5/onecall?q='Lyon'&exclude='minutely'&appid={api_key}\"\n",
    "response = requests.get(url)\n",
    "data = response.json()\n",
    "print(data)\n",
    "print(data[0][\"local_names\"][\"fr\"]) # prendre le plus probable"
   ]
  },
  {
   "cell_type": "markdown",
   "metadata": {},
   "source": [
    "# Possibilité de trouver l'adresse direct avec la ville et l'API"
   ]
  },
  {
   "cell_type": "code",
   "execution_count": 85,
   "metadata": {},
   "outputs": [
    {
     "name": "stdout",
     "output_type": "stream",
     "text": [
      "[{'name': 'Saint-Hilaire-du-Harcouët', 'local_names': {'fr': 'Saint-Hilaire-du-Harcouët'}, 'lat': 48.5714837, 'lon': -1.085461778865405, 'country': 'FR', 'state': 'Normandy'}, {'name': 'Saint-Hilaire-du-Harcouët', 'local_names': {'fr': 'Saint-Hilaire-du-Harcouët'}, 'lat': 48.5767706, 'lon': -1.0927364, 'country': 'FR', 'state': 'Normandy'}]\n",
      "Saint-Hilaire-du-Harcouët\n"
     ]
    }
   ],
   "source": [
    "ville = \"Saint Hilaire du Harcouet\"\n",
    "url = f\"http://api.openweathermap.org/geo/1.0/direct?q={ville}&limit=5&appid={api_key}&lang=fr&units=metric\"\n",
    "\n",
    "response = requests.get(url)\n",
    "data = response.json()\n",
    "print(data)\n",
    "print(data[0][\"local_names\"][\"fr\"]) # prendre le plus probable"
   ]
  },
  {
   "cell_type": "code",
   "execution_count": null,
   "metadata": {},
   "outputs": [
    {
     "name": "stdout",
     "output_type": "stream",
     "text": [
      "Weather Map URL for France: https://tile.openweathermap.org/map/precipitation_new/6/28/42?appid=7e6de904a7efae91cc0efa405bbbe1ad\n"
     ]
    }
   ],
   "source": [
    "def get_weather_map_url(api_key, map_type, zoom, x, y):\n",
    "    #url = f\"https://tile.openweathermap.org/map/{map_type}/{zoom}/{x}/{y}?appid={api_key}\"\n",
    "    url = f\"https://tile.openweathermap.org/map/{layer}/{z}/{x}/{y}.png?appid={api_key}\"\n",
    "    return url\n",
    "\n",
    "\n",
    "\n",
    "map_type = \"precipitation_new\"  # Vous pouvez remplacer ceci par d'autres types de carte comme \"clouds_new\", \"temp_new\", etc.\n",
    "zoom = 6  # Niveau de zoom\n",
    "x = 28  # Coordonnée x pour afficher la France\n",
    "y = 42  # Coordonnée y pour afficher la France\n",
    "\n",
    "weather_map_url = get_weather_map_url(api_key, map_type, zoom, x, y)\n",
    "print(\"Weather Map URL for France:\", weather_map_url)"
   ]
  },
  {
   "cell_type": "markdown",
   "metadata": {},
   "source": [
    "# Endpoints :"
   ]
  },
  {
   "cell_type": "markdown",
   "metadata": {},
   "source": [
    "\n",
    "Current Weather Data: Comme mentionné précédemment, l'endpoint weather permet d'obtenir les données météorologiques actuelles pour une ville donnée.\n",
    "\n",
    "Forecast Weather Data: L'endpoint forecast fournit les prévisions météorologiques pour une période de temps spécifiée (généralement 5 jours avec des intervalles de 3 heures).\n",
    "\n",
    "One Call API: L'endpoint onecall regroupe plusieurs types de données météorologiques en une seule requête. Cela comprend les prévisions horaires, les prévisions quotidiennes, les données météorologiques actuelles et les alertes météorologiques.\n",
    "\n",
    "Historical Weather Data: L'endpoint history permet d'obtenir les données météorologiques historiques pour une ville donnée à une date spécifique.\n",
    "\n",
    "Air Pollution Data: L'API fournit également des données sur la pollution de l'air pour une ville donnée via l'endpoint air_pollution.\n",
    "\n",
    "UV Index Data: L'endpoint uvi permet d'obtenir l'indice UV actuel pour une position géographique spécifiée.\n",
    "\n",
    "Weather Maps: Il existe plusieurs endpoints pour obtenir des cartes météorologiques, notamment les prévisions de précipitations, les nuages, la température, etc.\n",
    "\n",
    "Weather Alerts: L'API fournit également des alertes météorologiques via l'endpoint alerts."
   ]
  },
  {
   "cell_type": "code",
   "execution_count": null,
   "metadata": {},
   "outputs": [],
   "source": []
  },
  {
   "cell_type": "code",
   "execution_count": null,
   "metadata": {},
   "outputs": [],
   "source": []
  }
 ],
 "metadata": {
  "kernelspec": {
   "display_name": "Python 3",
   "language": "python",
   "name": "python3"
  },
  "language_info": {
   "codemirror_mode": {
    "name": "ipython",
    "version": 3
   },
   "file_extension": ".py",
   "mimetype": "text/x-python",
   "name": "python",
   "nbconvert_exporter": "python",
   "pygments_lexer": "ipython3",
   "version": "3.11.4"
  }
 },
 "nbformat": 4,
 "nbformat_minor": 2
}
