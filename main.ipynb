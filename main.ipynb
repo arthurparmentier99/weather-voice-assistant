{
 "cells": [
  {
   "cell_type": "code",
   "execution_count": 22,
   "metadata": {},
   "outputs": [],
   "source": [
    "def kelvin_to_celsius(kelvin):\n",
    "    return kelvin - 273.15"
   ]
  },
  {
   "cell_type": "code",
   "execution_count": 41,
   "metadata": {},
   "outputs": [
    {
     "name": "stdout",
     "output_type": "stream",
     "text": [
      "{'coord': {'lon': 4.5833, 'lat': 45.75}, 'weather': [{'id': 804, 'main': 'Clouds', 'description': 'couvert', 'icon': '04d'}], 'base': 'stations', 'main': {'temp': 12.19, 'feels_like': 11.34, 'temp_min': 11.94, 'temp_max': 13.03, 'pressure': 1019, 'humidity': 72}, 'visibility': 10000, 'wind': {'speed': 2.24, 'deg': 13, 'gust': 3.17}, 'clouds': {'all': 90}, 'dt': 1710332549, 'sys': {'type': 2, 'id': 2007821, 'country': 'FR', 'sunrise': 1710309462, 'sunset': 1710351874}, 'timezone': 3600, 'id': 2996943, 'name': 'Lyon', 'cod': 200}\n",
      "Weather in Lyon\n",
      "Description: couvert\n",
      "Temperature: 12.19  °C\n",
      "Humidity: 72 %\n",
      "Wind Speed: 2.24 m/s\n"
     ]
    }
   ],
   "source": [
    "import requests\n",
    "\n",
    "def get_current_weather(city, api_key):\n",
    "    url = f\"https://api.openweathermap.org/data/2.5/weather?q={city}&appid={api_key}&lang=fr&units=metric\"\n",
    "    response = requests.get(url)\n",
    "    data = response.json()\n",
    "    return data\n",
    "\n",
    "# Remplacez \"YOUR_API_KEY\" par votre propre clé API\n",
    "api_key = \"7e6de904a7efae91cc0efa405bbbe1ad\"\n",
    "adress = \"79 cours de la liberté, Lyon 69007\"\n",
    "city = \"Lyon\"\n",
    "\n",
    "weather_data = get_current_weather(city, api_key)\n",
    "print(weather_data)\n",
    "print(\"Weather in\", city)\n",
    "print(\"Description:\", weather_data['weather'][0]['description'])\n",
    "print(\"Temperature:\", weather_data['main']['temp'],\" °C\")\n",
    "print(\"Humidity:\", weather_data['main']['humidity'], \"%\")\n",
    "print(\"Wind Speed:\", weather_data['wind']['speed'], \"m/s\")"
   ]
  },
  {
   "cell_type": "markdown",
   "metadata": {},
   "source": [
    "# Météo avec Lat / Lont, avec adress de Nominatuim"
   ]
  },
  {
   "cell_type": "code",
   "execution_count": 40,
   "metadata": {},
   "outputs": [
    {
     "name": "stdout",
     "output_type": "stream",
     "text": [
      "45.7562593   4.8431839\n",
      "{'coord': {'lon': 4.8357, 'lat': 45.764}, 'weather': [{'id': 802, 'main': 'Clouds', 'description': 'partiellement nuageux', 'icon': '03d'}], 'base': 'stations', 'main': {'temp': 14.85, 'feels_like': 14.22, 'temp_min': 14.34, 'temp_max': 15.73, 'pressure': 1019, 'humidity': 70}, 'visibility': 10000, 'wind': {'speed': 3.6, 'deg': 350}, 'clouds': {'all': 40}, 'dt': 1710332656, 'sys': {'type': 1, 'id': 6505, 'country': 'FR', 'sunrise': 1710309402, 'sunset': 1710351813}, 'timezone': 3600, 'id': 6454573, 'name': 'Lyon', 'cod': 200} \n",
      "\n",
      "Météo a 79 cours de la liberté, Lyon 69007\n",
      "Description: partiellement nuageux\n",
      "Temperature: 14.85 °C\n",
      "Temperature resentie : 14.22 °C\n",
      "Humidité: 70 %\n",
      "Wind Speed: 3.6 m/s\n"
     ]
    }
   ],
   "source": [
    "import requests\n",
    "from geopy.geocoders import Nominatim\n",
    "\n",
    "def get_coordinates(address):\n",
    "    geolocator = Nominatim(user_agent=\"geoapiExercises\")\n",
    "    location = geolocator.geocode(address)\n",
    "    return location.latitude, location.longitude\n",
    "\n",
    "def get_current_weather(address, api_key):\n",
    "    latitude, longitude = get_coordinates(address)\n",
    "    print(latitude,\" \",longitude)\n",
    "    url = f\"https://api.openweathermap.org/data/2.5/weather?lat={latitude}&lon={longitude}&appid={api_key}&lang=fr&units=metric\"\n",
    "    response = requests.get(url)\n",
    "    data = response.json()\n",
    "    return data\n",
    "\n",
    "api_key = \"7e6de904a7efae91cc0efa405bbbe1ad\"\n",
    "address = \"1 rue de Rivoli, Paris, France\"\n",
    "address2 = \"79 cours de la liberté, Lyon 69007\"\n",
    "\n",
    "weather_data = get_current_weather(address2, api_key)\n",
    "print(weather_data,\"\\n\")\n",
    "\n",
    "print(\"Méteo à\", address2)\n",
    "print(\"Description:\", weather_data['weather'][0]['description'])\n",
    "print(\"Temperature:\", weather_data['main']['temp'], \"°C\")\n",
    "print(\"Temperature resentie :\", weather_data['main']['feels_like'], \"°C\")\n",
    "print(\"Humidité:\", weather_data['main']['humidity'], \"%\")\n",
    "print(\"Wind Speed:\", weather_data['wind']['speed'], \"m/s\")\n"
   ]
  },
  {
   "cell_type": "markdown",
   "metadata": {},
   "source": [
    "# Prévisons pour une ville"
   ]
  },
  {
   "cell_type": "code",
   "execution_count": 44,
   "metadata": {},
   "outputs": [
    {
     "name": "stdout",
     "output_type": "stream",
     "text": [
      "{'dt': 1710460800, 'main': {'temp': 10.14, 'feels_like': 9.43, 'temp_min': 10.14, 'temp_max': 10.14, 'pressure': 1019, 'sea_level': 1019, 'grnd_level': 977, 'humidity': 85, 'temp_kf': 0}, 'weather': [{'id': 804, 'main': 'Clouds', 'description': 'couvert', 'icon': '04n'}], 'clouds': {'all': 97}, 'wind': {'speed': 1.32, 'deg': 120, 'gust': 1.5}, 'visibility': 10000, 'pop': 0, 'sys': {'pod': 'n'}, 'dt_txt': '2024-03-15 00:00:00'} \n",
      "\n",
      "Forecast for Marseille on 2024-03-15\n",
      "Description: couvert\n",
      "Temperature: 10.14 K\n",
      "Humidity: 85 %\n",
      "Wind Speed: 1.32 m/s\n"
     ]
    }
   ],
   "source": [
    "import requests\n",
    "\n",
    "def get_forecast(city, date, api_key):\n",
    "    url = f\"https://api.openweathermap.org/data/2.5/forecast?q={city}&appid={api_key}&lang=fr&units=metric\"\n",
    "    response = requests.get(url)\n",
    "    data = response.json()\n",
    "    \n",
    "    # Recherche de la prévision pour la date spécifiée\n",
    "    for forecast in data['list']:\n",
    "        if forecast['dt_txt'].split()[0] == date:\n",
    "            return forecast\n",
    "\n",
    "    return None\n",
    "\n",
    "api_key = \"7e6de904a7efae91cc0efa405bbbe1ad\"\n",
    "city = \"Marseille\"\n",
    "date = \"2024-03-15\"  # Date au format \"YYYY-MM-DD\"\n",
    "\n",
    "forecast_data = get_forecast(city, date, api_key)\n",
    "print(forecast_data,\"\\n\")\n",
    "\n",
    "\n",
    "if forecast_data:\n",
    "    print(\"Forecast for\", city, \"on\", date)\n",
    "    print(\"Description:\", forecast_data['weather'][0]['description'])\n",
    "    print(\"Temperature:\", forecast_data['main']['temp'], \"K\")\n",
    "    print(\"Humidity:\", forecast_data['main']['humidity'], \"%\")\n",
    "    print(\"Wind Speed:\", forecast_data['wind']['speed'], \"m/s\")\n",
    "else:\n",
    "    print(\"No forecast available for\", city, \"on\", date)\n"
   ]
  },
  {
   "cell_type": "code",
   "execution_count": null,
   "metadata": {},
   "outputs": [],
   "source": [
    "#possibliltées : \n",
    "\n"
   ]
  },
  {
   "cell_type": "code",
   "execution_count": null,
   "metadata": {},
   "outputs": [],
   "source": []
  }
 ],
 "metadata": {
  "kernelspec": {
   "display_name": "Python 3",
   "language": "python",
   "name": "python3"
  },
  "language_info": {
   "codemirror_mode": {
    "name": "ipython",
    "version": 3
   },
   "file_extension": ".py",
   "mimetype": "text/x-python",
   "name": "python",
   "nbconvert_exporter": "python",
   "pygments_lexer": "ipython3",
   "version": "3.11.4"
  }
 },
 "nbformat": 4,
 "nbformat_minor": 2
}
